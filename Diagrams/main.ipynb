{
 "cells": [
  {
   "metadata": {
    "collapsed": true
   },
   "cell_type": "code",
   "source": [
    "%matplotlib inline\n",
    "from figures import (\n",
    "    main_figure3, \n",
    "    main_figure4, \n",
    "    main_figure5, \n",
    "    main_figure6, \n",
    "    main_figure7\n",
    ")\n",
    "\n",
    "# Define paths to data files\n",
    "EVALUATION_RESULTS = \"../evaluation_results.csv\"\n",
    "ADMISSION_CHANCE_RESULTS = \"../Datasets/Admission_Chance_MLResults.csv\"\n",
    "INSURANCE_COST_RESULTS = \"../Datasets/Insurance_Cost_MLResults.csv\"\n",
    "USED_CAR_PRICES_RESULTS = \"../Datasets/Used_Car_Prices_MLResults.csv\"\n",
    "\n",
    "# Set configuration parameters\n",
    "METRIC = \"MSE\"  # Metric used for evaluation (e.g., MSE, MAE, r2)\n",
    "DPI = 100  # Resolution of output figures\n",
    "FIGURE = 7  # Which main figure to generate (3-7)\n",
    "\n",
    "# Generate the specified figure based on the FIGURE variable\n",
    "if FIGURE == 3:\n",
    "    main_figure3(EVALUATION_RESULTS, ADMISSION_CHANCE_RESULTS, INSURANCE_COST_RESULTS, USED_CAR_PRICES_RESULTS, METRIC, DPI)\n",
    "elif FIGURE == 4:\n",
    "    main_figure4(EVALUATION_RESULTS, ADMISSION_CHANCE_RESULTS, INSURANCE_COST_RESULTS, USED_CAR_PRICES_RESULTS, METRIC, DPI)\n",
    "elif FIGURE == 5:\n",
    "    main_figure5(EVALUATION_RESULTS, ADMISSION_CHANCE_RESULTS, INSURANCE_COST_RESULTS, USED_CAR_PRICES_RESULTS, METRIC, DPI)\n",
    "elif FIGURE == 6:\n",
    "    main_figure6(EVALUATION_RESULTS, ADMISSION_CHANCE_RESULTS, INSURANCE_COST_RESULTS, USED_CAR_PRICES_RESULTS, METRIC, DPI, feature_num=3)\n",
    "elif FIGURE == 7:\n",
    "    main_figure7(EVALUATION_RESULTS, ADMISSION_CHANCE_RESULTS, INSURANCE_COST_RESULTS, USED_CAR_PRICES_RESULTS, METRIC, DPI, in_context_num=100)\n",
    "else:\n",
    "    print(f\"Invalid FIGURE value: {FIGURE}. Please choose a value between 3 and 7.\")"
   ],
   "id": "initial_id",
   "outputs": [],
   "execution_count": null
  },
  {
   "metadata": {},
   "cell_type": "code",
   "outputs": [],
   "execution_count": null,
   "source": "",
   "id": "758b68358fa7c381"
  }
 ],
 "metadata": {
  "kernelspec": {
   "display_name": "Python 3",
   "language": "python",
   "name": "python3"
  },
  "language_info": {
   "codemirror_mode": {
    "name": "ipython",
    "version": 2
   },
   "file_extension": ".py",
   "mimetype": "text/x-python",
   "name": "python",
   "nbconvert_exporter": "python",
   "pygments_lexer": "ipython2",
   "version": "2.7.6"
  }
 },
 "nbformat": 4,
 "nbformat_minor": 5
}
